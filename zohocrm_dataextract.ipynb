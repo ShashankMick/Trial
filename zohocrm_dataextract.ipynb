{
  "nbformat": 4,
  "nbformat_minor": 0,
  "metadata": {
    "colab": {
      "provenance": [],
      "authorship_tag": "ABX9TyMLuCqPycpeSe49ww0b7bZC",
      "include_colab_link": true
    },
    "kernelspec": {
      "name": "python3",
      "display_name": "Python 3"
    },
    "language_info": {
      "name": "python"
    }
  },
  "cells": [
    {
      "cell_type": "markdown",
      "metadata": {
        "id": "view-in-github",
        "colab_type": "text"
      },
      "source": [
        "<a href=\"https://colab.research.google.com/github/ShashankMick/Trial/blob/master/zohocrm_dataextract.ipynb\" target=\"_parent\"><img src=\"https://colab.research.google.com/assets/colab-badge.svg\" alt=\"Open In Colab\"/></a>"
      ]
    },
    {
      "cell_type": "code",
      "execution_count": 1,
      "metadata": {
        "id": "fBqhO10tNdp5"
      },
      "outputs": [],
      "source": [
        "import requests\n",
        "import urllib3\n",
        "import json\n",
        "import pandas as pd"
      ]
    },
    {
      "cell_type": "code",
      "source": [
        "refresh_token=1000.c523ab567a1619980f5f0e980e288333.5611f8eb787687e87e32b2276323c2bd\n",
        "client_id='1000.O3V0XK8KL7WWI6NLL5ODG9FYIRWXOV'\n",
        "client_secret='ed7e14fb74c26bb45af5e5c943061c10ea1c3716a9'\n",
        "redirect_uri = 'your_redirect_uri'\n",
        "api_domain = 'www.zohoapis.com'"
      ],
      "metadata": {
        "id": "C1GfYeJONfq-"
      },
      "execution_count": null,
      "outputs": []
    },
    {
      "cell_type": "code",
      "source": [
        "# Zoho CRM API URLs\n",
        "token_url = f'https://{api_domain}/oauth/v2/token'\n",
        "api_url = f'https://www.zohoapis.com/crm/v2/Leads'"
      ],
      "metadata": {
        "id": "_lK6noNFOKrZ"
      },
      "execution_count": null,
      "outputs": []
    },
    {
      "cell_type": "code",
      "source": [
        "# Zoho CRM API parameters\n",
        "grant_type = 'authorization_code'\n",
        "scope = 'ZohoCRM.modules.all,ZohoCRM.settings.all'\n",
        "auth_code = 'your_authorization_code'  # You'll get this during the OAuth process\n",
        "\n",
        "# Get access token using OAuth\n",
        "token_params = {\n",
        "    'grant_type': grant_type,\n",
        "    'code': auth_code,\n",
        "    'client_id': client_id,\n",
        "    'client_secret': client_secret,\n",
        "    'redirect_uri': redirect_uri,\n",
        "    'scope': scope\n",
        "}"
      ],
      "metadata": {
        "id": "m67f4SDmOWn3"
      },
      "execution_count": null,
      "outputs": []
    },
    {
      "cell_type": "code",
      "source": [
        "token_response = requests.post(token_url, data=token_params)\n",
        "access_token = token_response.json().get('access_token')\n",
        "\n",
        "# Fetch data from Zoho CRM\n",
        "headers = {\n",
        "    'Authorization': f'Zoho-oauthtoken {access_token}'\n",
        "}"
      ],
      "metadata": {
        "id": "iaVyNA5YO4TB"
      },
      "execution_count": null,
      "outputs": []
    },
    {
      "cell_type": "code",
      "source": [
        "response = requests.get(api_url, headers=headers)\n",
        "data = response.json()\n",
        "\n",
        "# Process the data as needed\n",
        "print(data)"
      ],
      "metadata": {
        "id": "94Y8nnCdO5mr"
      },
      "execution_count": null,
      "outputs": []
    },
    {
      "cell_type": "code",
      "source": [
        "crm_url = 'https://www.zohoapis.com/crm/v2/Leads'\n",
        "\n",
        "# Set up the headers with the access token\n",
        "headers = {\n",
        "    'Authorization': f'Zoho-oauthtoken {access_token}'\n",
        "}\n",
        "\n",
        "# Make a GET request to the Zoho CRM API to retrieve leads data\n",
        "response = requests.get(crm_url, headers=headers)\n",
        "\n",
        "# Check if the request was successful (status code 200)\n",
        "if response.status_code == 200:\n",
        "    leads_data = response.json()\n",
        "\n",
        "    # Process the leads data as needed\n",
        "    for lead in leads_data.get('data', []):\n",
        "        print(f\"Lead Name: {lead.get('Full_Name')}, Email: {lead.get('Email')}\")\n",
        "else:\n",
        "    print(f\"Error: {response.status_code} - {response.text}\")"
      ],
      "metadata": {
        "id": "NhO9FewxPX79"
      },
      "execution_count": null,
      "outputs": []
    }
  ]
}