{
 "cells": [
  {
   "cell_type": "code",
   "execution_count": 1,
   "metadata": {
    "collapsed": true
   },
   "outputs": [],
   "source": [
    "import pandas as pd\n",
    "import nltk\n",
    "import sklearn as sk\n",
    "import numpy as np\n",
    "from nltk.tokenize import word_tokenize"
   ]
  },
  {
   "cell_type": "code",
   "execution_count": 2,
   "metadata": {
    "collapsed": true
   },
   "outputs": [],
   "source": [
    "from nltk.corpus import stopwords\n",
    "stop=stopwords.words('english')"
   ]
  },
  {
   "cell_type": "code",
   "execution_count": 3,
   "metadata": {
    "collapsed": true
   },
   "outputs": [],
   "source": [
    "from nltk.stem import PorterStemmer\n",
    "from nltk.stem import WordNetLemmatizer"
   ]
  },
  {
   "cell_type": "code",
   "execution_count": 4,
   "metadata": {
    "collapsed": true
   },
   "outputs": [],
   "source": [
    "from sklearn.model_selection import train_test_split"
   ]
  },
  {
   "cell_type": "markdown",
   "metadata": {
    "collapsed": false
   },
   "source": [
    "### READ DATA FILE"
   ]
  },
  {
   "cell_type": "code",
   "execution_count": 5,
   "metadata": {
    "collapsed": true
   },
   "outputs": [],
   "source": [
    "data=pd.read_excel('C:\\\\Users\\\\Ammick\\\\Google Drive\\\\PHD\\\\Research Paper\\\\PYTHON\\\\2016 Movies Reviews\\\\All Data + Extraction Code\\\\Paper II Working\\\\Review_Extract_Label_Bollywood.xlsx')"
   ]
  },
  {
   "cell_type": "code",
   "execution_count": 6,
   "metadata": {
    "collapsed": true
   },
   "outputs": [],
   "source": [
    "df=data.copy()"
   ]
  },
  {
   "cell_type": "markdown",
   "metadata": {},
   "source": [
    "#### POLARITY ADJUSTMENT"
   ]
  },
  {
   "cell_type": "code",
   "execution_count": 7,
   "metadata": {
    "collapsed": true
   },
   "outputs": [],
   "source": [
    "df['Polarity']=df['Polarity'].replace(['Very Postive','Postive','Neutral','Very Negative'],['Positive','Positive','Negative','Negative'])"
   ]
  },
  {
   "cell_type": "code",
   "execution_count": 8,
   "metadata": {
    "collapsed": false
   },
   "outputs": [
    {
     "data": {
      "text/plain": [
       "Reviews     2143\n",
       "Polarity    2143\n",
       "dtype: int64"
      ]
     },
     "execution_count": 8,
     "metadata": {},
     "output_type": "execute_result"
    }
   ],
   "source": [
    "df[df.Polarity=='Positive'].count()"
   ]
  },
  {
   "cell_type": "markdown",
   "metadata": {},
   "source": [
    "#### TOKENIZE"
   ]
  },
  {
   "cell_type": "code",
   "execution_count": 9,
   "metadata": {
    "collapsed": false
   },
   "outputs": [],
   "source": [
    "df['Tokens']=df['Reviews'].apply(lambda token : word_tokenize(token))"
   ]
  },
  {
   "cell_type": "markdown",
   "metadata": {},
   "source": [
    "#### REMOVE STOP WORDS"
   ]
  },
  {
   "cell_type": "code",
   "execution_count": 10,
   "metadata": {
    "collapsed": false
   },
   "outputs": [],
   "source": [
    "def token_stop(Tokens):\n",
    "    token_stops=[w.lower() for w in Tokens if w not in stop]\n",
    "    return token_stops\n",
    "\n",
    "df['Stop_Tokens']=df.loc[:,'Tokens'].apply(lambda token : token_stop(token))\n",
    "   "
   ]
  },
  {
   "cell_type": "markdown",
   "metadata": {},
   "source": [
    "#### STEMMING"
   ]
  },
  {
   "cell_type": "code",
   "execution_count": 11,
   "metadata": {
    "collapsed": true
   },
   "outputs": [],
   "source": [
    "def token_stem(Tokens):\n",
    "    token_stems=[PorterStemmer().stem(w) for w in Tokens]\n",
    "    return token_stems\n",
    "\n",
    "df['Stem_Tokens']=df['Stop_Tokens'].apply(lambda token: token_stem(token))"
   ]
  },
  {
   "cell_type": "markdown",
   "metadata": {},
   "source": [
    "#### LEMMATIZING"
   ]
  },
  {
   "cell_type": "code",
   "execution_count": 12,
   "metadata": {
    "collapsed": true
   },
   "outputs": [],
   "source": [
    "def token_lemma(Tokens):\n",
    "    token_lemmas=[WordNetLemmatizer().lemmatize(w) for w in Tokens]\n",
    "    return token_lemmas\n",
    "\n",
    "df['Lemma_Tokens']=df['Stop_Tokens'].apply(lambda token: token_lemma(token))"
   ]
  },
  {
   "cell_type": "markdown",
   "metadata": {},
   "source": [
    "#### POS_TAGGING"
   ]
  },
  {
   "cell_type": "code",
   "execution_count": 13,
   "metadata": {
    "collapsed": false
   },
   "outputs": [],
   "source": [
    "df['POS_Tokens']=df['Lemma_Tokens'].apply(lambda token: nltk.pos_tag(token))"
   ]
  },
  {
   "cell_type": "markdown",
   "metadata": {
    "collapsed": true
   },
   "source": [
    "#### TRAIN TEST SPLIT "
   ]
  },
  {
   "cell_type": "code",
   "execution_count": 14,
   "metadata": {
    "collapsed": true
   },
   "outputs": [],
   "source": [
    "train, test=train_test_split(df,test_size=0.20)"
   ]
  },
  {
   "cell_type": "code",
   "execution_count": 15,
   "metadata": {
    "collapsed": true
   },
   "outputs": [],
   "source": [
    "X_train, Y_train= train['Stem_Tokens'].values, train['Polarity']\n",
    "X_test, Y_test= test['Stem_Tokens'], test['Polarity']\n",
    "train_data=[]\n",
    "for X,Y in zip(X_train, Y_train):\n",
    "    X_t={}\n",
    "    for x in set(X):\n",
    "        X_t[x]='True'\n",
    "    train_data.append((X_t,Y))\n",
    "  "
   ]
  },
  {
   "cell_type": "code",
   "execution_count": 16,
   "metadata": {
    "collapsed": true
   },
   "outputs": [],
   "source": [
    "test_data=[]\n",
    "for X,Y in zip(X_test, Y_test):\n",
    "    X_t={}\n",
    "    for x in set(X):\n",
    "        X_t[x]='True'\n",
    "    test_data.append((X_t,Y))  "
   ]
  },
  {
   "cell_type": "markdown",
   "metadata": {},
   "source": [
    "### CLASSIFICATION"
   ]
  },
  {
   "cell_type": "markdown",
   "metadata": {},
   "source": [
    "#### NAIVE BAYES"
   ]
  },
  {
   "cell_type": "code",
   "execution_count": 17,
   "metadata": {
    "collapsed": true
   },
   "outputs": [],
   "source": [
    "from nltk.classify import NaiveBayesClassifier\n",
    "import nltk.classify.util\n",
    "from nltk import precision, recall, f_measure"
   ]
  },
  {
   "cell_type": "code",
   "execution_count": 18,
   "metadata": {
    "collapsed": false
   },
   "outputs": [],
   "source": [
    "nbClassifier=NaiveBayesClassifier.train(train_data)\n"
   ]
  },
  {
   "cell_type": "markdown",
   "metadata": {},
   "source": [
    "#### SVM CLASSIFIER"
   ]
  },
  {
   "cell_type": "code",
   "execution_count": 19,
   "metadata": {
    "collapsed": false
   },
   "outputs": [],
   "source": [
    "import nltk.classify\n",
    "from sklearn.svm import LinearSVC"
   ]
  },
  {
   "cell_type": "code",
   "execution_count": 20,
   "metadata": {
    "collapsed": true
   },
   "outputs": [],
   "source": [
    "svmClassifier=nltk.classify.SklearnClassifier(LinearSVC()).train(train_data)"
   ]
  },
  {
   "cell_type": "markdown",
   "metadata": {},
   "source": [
    "### TESTING CLASSIFIER WITH METRICES"
   ]
  },
  {
   "cell_type": "code",
   "execution_count": 21,
   "metadata": {
    "collapsed": false,
    "scrolled": true
   },
   "outputs": [],
   "source": [
    "import collections\n",
    "refsets = collections.defaultdict(set)\n",
    "testsets = collections.defaultdict(set)\n",
    " \n",
    "for i, (feats, label) in enumerate(test_data):\n",
    "    refsets[label].add(i)\n",
    "    observed = nbClassifier.classify(feats)\n",
    "    testsets[observed].add(i)"
   ]
  },
  {
   "cell_type": "code",
   "execution_count": 22,
   "metadata": {
    "collapsed": false
   },
   "outputs": [
    {
     "name": "stdout",
     "output_type": "stream",
     "text": [
      "accuracy: 69.98444790046656\n",
      "pos precision: 0.9619771863117871\n",
      "pos recall: 0.5802752293577982\n",
      "pos F-measure: 0.7238912732474964\n",
      "neg precision: 0.5184210526315789\n",
      "neg recall: 0.9516908212560387\n",
      "neg F-measure: 0.6712095400340715\n"
     ]
    }
   ],
   "source": [
    "print ('accuracy:', nltk.classify.util.accuracy(nbClassifier, test_data)*100)\n",
    "print ('pos precision:', precision(refsets['Positive'], testsets['Positive']))\n",
    "print ('pos recall:', recall(refsets['Positive'], testsets['Positive']))\n",
    "print ('pos F-measure:', f_measure(refsets['Positive'], testsets['Positive']))\n",
    "print ('neg precision:', precision(refsets['Negative'], testsets['Negative']))\n",
    "print ('neg recall:', recall(refsets['Negative'], testsets['Negative']))\n",
    "print ('neg F-measure:', f_measure(refsets['Negative'], testsets['Negative']))"
   ]
  }
 ],
 "metadata": {
  "anaconda-cloud": {},
  "kernelspec": {
   "display_name": "Python [default]",
   "language": "python",
   "name": "python3"
  },
  "language_info": {
   "codemirror_mode": {
    "name": "ipython",
    "version": 3
   },
   "file_extension": ".py",
   "mimetype": "text/x-python",
   "name": "python",
   "nbconvert_exporter": "python",
   "pygments_lexer": "ipython3",
   "version": "3.5.2"
  }
 },
 "nbformat": 4,
 "nbformat_minor": 1
}
