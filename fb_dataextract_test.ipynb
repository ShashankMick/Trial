{
  "cells": [
    {
      "cell_type": "markdown",
      "metadata": {
        "id": "view-in-github",
        "colab_type": "text"
      },
      "source": [
        "<a href=\"https://colab.research.google.com/github/ShashankMick/Trial/blob/master/fb_dataextract_test.ipynb\" target=\"_parent\"><img src=\"https://colab.research.google.com/assets/colab-badge.svg\" alt=\"Open In Colab\"/></a>"
      ]
    },
    {
      "cell_type": "code",
      "execution_count": null,
      "metadata": {
        "id": "eoZal7LtuI8e"
      },
      "outputs": [],
      "source": [
        "from datetime import datetime, timedelta\n",
        "import datetime\n",
        "import pandas as pd"
      ]
    },
    {
      "cell_type": "code",
      "execution_count": null,
      "metadata": {
        "id": "HaRZ70SpuI8j"
      },
      "outputs": [],
      "source": [
        "import requests\n",
        "import urllib3\n",
        "import json"
      ]
    },
    {
      "cell_type": "code",
      "execution_count": null,
      "metadata": {
        "id": "eleihSUiuI8j"
      },
      "outputs": [],
      "source": [
        "ver = \"v18.0\"\n",
        "app_id = '305335075474932'\n",
        "add_secret = '7cc0db8e9e6c4866db37a57ac80e5fc2'\n",
        "account = 'act_304008339092830'\n",
        "access_token = 'EAAEVs1y2DfQBO2rAFlnpdtqnetCzPolvtto6xAXnROI4119HDC27le4SqVT6KpR3K2TSAZCGlxaauHxMOqHeCoEKoiJ4tmlh8vezT9pRZCOq7ZBsDNMfzzZAKSyLzxZBJPQaXimVlucLElh1Ml981ZBusmBeFvmRp95NId2HdHZBM7wJG1DZCG1jLwZDZD'\n",
        "insights = 'reach,impressions,clicks,campaign_id,spend,conversions,objective'"
      ]
    },
    {
      "cell_type": "code",
      "execution_count": null,
      "metadata": {
        "id": "9OTcT5i9uI8k"
      },
      "outputs": [],
      "source": [
        "params = 'date_preset=last_3d&time_increment=1&level=ad'\n",
        "fields = \"campaign_id,adset_id,ad_id,objective,optimization_goal,campaign_name,adset_name,ad_name,spend,impressions,reach,frequency,ctr,website_ctr,clicks,cpc,conversions,actions,age_targeting\""
      ]
    },
    {
      "cell_type": "code",
      "execution_count": null,
      "metadata": {
        "id": "r1ZgyDOmuI8l"
      },
      "outputs": [],
      "source": [
        "url = \"https://graph.facebook.com/\"+ver+\"/\"+account+\"/insights?\"+params+\"&fields=\"+fields+\"&access_token=\"+access_token"
      ]
    },
    {
      "cell_type": "code",
      "execution_count": null,
      "metadata": {
        "colab": {
          "base_uri": "https://localhost:8080/",
          "height": 70
        },
        "id": "o8RuHR8KuI8m",
        "outputId": "0cc1a852-b1fb-4782-c3b8-41d6090a4bd4"
      },
      "outputs": [
        {
          "output_type": "execute_result",
          "data": {
            "text/plain": [
              "'https://graph.facebook.com/v18.0/act_304008339092830/insights?date_preset=last_3d&time_increment=1&level=ad&fields=campaign_id,adset_id,ad_id,objective,optimization_goal,campaign_name,adset_name,ad_name,spend,impressions,reach,frequency,ctr,website_ctr,clicks,cpc,conversions,actions,age_targeting&access_token=EAAEVs1y2DfQBO2rAFlnpdtqnetCzPolvtto6xAXnROI4119HDC27le4SqVT6KpR3K2TSAZCGlxaauHxMOqHeCoEKoiJ4tmlh8vezT9pRZCOq7ZBsDNMfzzZAKSyLzxZBJPQaXimVlucLElh1Ml981ZBusmBeFvmRp95NId2HdHZBM7wJG1DZCG1jLwZDZD'"
            ],
            "application/vnd.google.colaboratory.intrinsic+json": {
              "type": "string"
            }
          },
          "metadata": {},
          "execution_count": 8
        }
      ],
      "source": [
        "url"
      ]
    },
    {
      "cell_type": "code",
      "execution_count": null,
      "metadata": {
        "id": "_o9X9ncNuI8n"
      },
      "outputs": [],
      "source": [
        "payload = {}\n",
        "headers = {\n",
        "  'Authorization': 'Bearer dummy_token'\n",
        "}\n",
        "\n",
        "response = requests.request(\"GET\", url, headers=headers, data=payload)\n"
      ]
    },
    {
      "cell_type": "code",
      "execution_count": null,
      "metadata": {
        "id": "ZZm9fZvhuI8o"
      },
      "outputs": [],
      "source": [
        "response_dict = json.loads(response.text)\n",
        "#print(response_dict)"
      ]
    },
    {
      "cell_type": "code",
      "execution_count": null,
      "metadata": {
        "id": "Ga2OgBXLuI8p"
      },
      "outputs": [],
      "source": [
        "df=pd.DataFrame(response_dict['data'])"
      ]
    },
    {
      "cell_type": "code",
      "execution_count": null,
      "metadata": {
        "colab": {
          "base_uri": "https://localhost:8080/",
          "height": 469
        },
        "id": "tgB3FmLvuI8q",
        "outputId": "c9e65b29-9cf5-46e8-f8b3-4ce297b6cee2"
      },
      "outputs": [
        {
          "output_type": "execute_result",
          "data": {
            "text/plain": [
              "          campaign_id            adset_id               ad_id      objective  \\\n",
              "0  120201140470220481  120201304151030481  120201304151250481  OUTCOME_LEADS   \n",
              "1  120201140470220481  120201304151030481  120201944674400481  OUTCOME_LEADS   \n",
              "2  120201140470220481  120201304151030481  120201944676610481  OUTCOME_LEADS   \n",
              "3  120201140470220481  120201304151030481  120201944694450481  OUTCOME_LEADS   \n",
              "4  120201140470220481  120201944731520481  120201944731530481  OUTCOME_LEADS   \n",
              "\n",
              "     optimization_goal                         campaign_name  \\\n",
              "0  OFFSITE_CONVERSIONS  expedify_TOF_Website_Leads_22 Nov 23   \n",
              "1  OFFSITE_CONVERSIONS  expedify_TOF_Website_Leads_22 Nov 23   \n",
              "2  OFFSITE_CONVERSIONS  expedify_TOF_Website_Leads_22 Nov 23   \n",
              "3  OFFSITE_CONVERSIONS  expedify_TOF_Website_Leads_22 Nov 23   \n",
              "4  OFFSITE_CONVERSIONS  expedify_TOF_Website_Leads_22 Nov 23   \n",
              "\n",
              "                adset_name               ad_name   spend impressions reach  \\\n",
              "0                 Founders    Don't be like Jack   95.16         378   259   \n",
              "1                 Founders  Truth Insight Action  423.37         742   568   \n",
              "2                 Founders            Dog Data 1  156.11         364   288   \n",
              "3                 Founders            Dog Data 2  194.79         666   568   \n",
              "4  Marketing Professionals  Truth Insight Action  165.63         469   373   \n",
              "\n",
              "  frequency       ctr clicks  date_start   date_stop  \\\n",
              "0  1.459459         0      0  2023-11-28  2023-11-28   \n",
              "1  1.306338  1.347709     10  2023-11-28  2023-11-28   \n",
              "2  1.263889  0.549451      2  2023-11-28  2023-11-28   \n",
              "3  1.172535   0.45045      3  2023-11-28  2023-11-28   \n",
              "4  1.257373  1.705757      8  2023-11-28  2023-11-28   \n",
              "\n",
              "                                         website_ctr       cpc  \\\n",
              "0                                                NaN       NaN   \n",
              "1  [{'action_type': 'link_click', 'value': '0.943...    42.337   \n",
              "2  [{'action_type': 'link_click', 'value': '0.274...    78.055   \n",
              "3  [{'action_type': 'link_click', 'value': '0.300...     64.93   \n",
              "4  [{'action_type': 'link_click', 'value': '1.066...  20.70375   \n",
              "\n",
              "                                         conversions  \\\n",
              "0                                                NaN   \n",
              "1  [{'action_type': 'offsite_conversion.fb_pixel_...   \n",
              "2                                                NaN   \n",
              "3                                                NaN   \n",
              "4  [{'action_type': 'offsite_conversion.fb_pixel_...   \n",
              "\n",
              "                                             actions  \n",
              "0                                                NaN  \n",
              "1  [{'action_type': 'post', 'value': '1'}, {'acti...  \n",
              "2  [{'action_type': 'landing_page_view', 'value':...  \n",
              "3  [{'action_type': 'onsite_conversion.post_save'...  \n",
              "4  [{'action_type': 'landing_page_view', 'value':...  "
            ],
            "text/html": [
              "\n",
              "  <div id=\"df-f44b9e24-0a0a-4025-916c-257b04d2feee\" class=\"colab-df-container\">\n",
              "    <div>\n",
              "<style scoped>\n",
              "    .dataframe tbody tr th:only-of-type {\n",
              "        vertical-align: middle;\n",
              "    }\n",
              "\n",
              "    .dataframe tbody tr th {\n",
              "        vertical-align: top;\n",
              "    }\n",
              "\n",
              "    .dataframe thead th {\n",
              "        text-align: right;\n",
              "    }\n",
              "</style>\n",
              "<table border=\"1\" class=\"dataframe\">\n",
              "  <thead>\n",
              "    <tr style=\"text-align: right;\">\n",
              "      <th></th>\n",
              "      <th>campaign_id</th>\n",
              "      <th>adset_id</th>\n",
              "      <th>ad_id</th>\n",
              "      <th>objective</th>\n",
              "      <th>optimization_goal</th>\n",
              "      <th>campaign_name</th>\n",
              "      <th>adset_name</th>\n",
              "      <th>ad_name</th>\n",
              "      <th>spend</th>\n",
              "      <th>impressions</th>\n",
              "      <th>reach</th>\n",
              "      <th>frequency</th>\n",
              "      <th>ctr</th>\n",
              "      <th>clicks</th>\n",
              "      <th>date_start</th>\n",
              "      <th>date_stop</th>\n",
              "      <th>website_ctr</th>\n",
              "      <th>cpc</th>\n",
              "      <th>conversions</th>\n",
              "      <th>actions</th>\n",
              "    </tr>\n",
              "  </thead>\n",
              "  <tbody>\n",
              "    <tr>\n",
              "      <th>0</th>\n",
              "      <td>120201140470220481</td>\n",
              "      <td>120201304151030481</td>\n",
              "      <td>120201304151250481</td>\n",
              "      <td>OUTCOME_LEADS</td>\n",
              "      <td>OFFSITE_CONVERSIONS</td>\n",
              "      <td>expedify_TOF_Website_Leads_22 Nov 23</td>\n",
              "      <td>Founders</td>\n",
              "      <td>Don't be like Jack</td>\n",
              "      <td>95.16</td>\n",
              "      <td>378</td>\n",
              "      <td>259</td>\n",
              "      <td>1.459459</td>\n",
              "      <td>0</td>\n",
              "      <td>0</td>\n",
              "      <td>2023-11-28</td>\n",
              "      <td>2023-11-28</td>\n",
              "      <td>NaN</td>\n",
              "      <td>NaN</td>\n",
              "      <td>NaN</td>\n",
              "      <td>NaN</td>\n",
              "    </tr>\n",
              "    <tr>\n",
              "      <th>1</th>\n",
              "      <td>120201140470220481</td>\n",
              "      <td>120201304151030481</td>\n",
              "      <td>120201944674400481</td>\n",
              "      <td>OUTCOME_LEADS</td>\n",
              "      <td>OFFSITE_CONVERSIONS</td>\n",
              "      <td>expedify_TOF_Website_Leads_22 Nov 23</td>\n",
              "      <td>Founders</td>\n",
              "      <td>Truth Insight Action</td>\n",
              "      <td>423.37</td>\n",
              "      <td>742</td>\n",
              "      <td>568</td>\n",
              "      <td>1.306338</td>\n",
              "      <td>1.347709</td>\n",
              "      <td>10</td>\n",
              "      <td>2023-11-28</td>\n",
              "      <td>2023-11-28</td>\n",
              "      <td>[{'action_type': 'link_click', 'value': '0.943...</td>\n",
              "      <td>42.337</td>\n",
              "      <td>[{'action_type': 'offsite_conversion.fb_pixel_...</td>\n",
              "      <td>[{'action_type': 'post', 'value': '1'}, {'acti...</td>\n",
              "    </tr>\n",
              "    <tr>\n",
              "      <th>2</th>\n",
              "      <td>120201140470220481</td>\n",
              "      <td>120201304151030481</td>\n",
              "      <td>120201944676610481</td>\n",
              "      <td>OUTCOME_LEADS</td>\n",
              "      <td>OFFSITE_CONVERSIONS</td>\n",
              "      <td>expedify_TOF_Website_Leads_22 Nov 23</td>\n",
              "      <td>Founders</td>\n",
              "      <td>Dog Data 1</td>\n",
              "      <td>156.11</td>\n",
              "      <td>364</td>\n",
              "      <td>288</td>\n",
              "      <td>1.263889</td>\n",
              "      <td>0.549451</td>\n",
              "      <td>2</td>\n",
              "      <td>2023-11-28</td>\n",
              "      <td>2023-11-28</td>\n",
              "      <td>[{'action_type': 'link_click', 'value': '0.274...</td>\n",
              "      <td>78.055</td>\n",
              "      <td>NaN</td>\n",
              "      <td>[{'action_type': 'landing_page_view', 'value':...</td>\n",
              "    </tr>\n",
              "    <tr>\n",
              "      <th>3</th>\n",
              "      <td>120201140470220481</td>\n",
              "      <td>120201304151030481</td>\n",
              "      <td>120201944694450481</td>\n",
              "      <td>OUTCOME_LEADS</td>\n",
              "      <td>OFFSITE_CONVERSIONS</td>\n",
              "      <td>expedify_TOF_Website_Leads_22 Nov 23</td>\n",
              "      <td>Founders</td>\n",
              "      <td>Dog Data 2</td>\n",
              "      <td>194.79</td>\n",
              "      <td>666</td>\n",
              "      <td>568</td>\n",
              "      <td>1.172535</td>\n",
              "      <td>0.45045</td>\n",
              "      <td>3</td>\n",
              "      <td>2023-11-28</td>\n",
              "      <td>2023-11-28</td>\n",
              "      <td>[{'action_type': 'link_click', 'value': '0.300...</td>\n",
              "      <td>64.93</td>\n",
              "      <td>NaN</td>\n",
              "      <td>[{'action_type': 'onsite_conversion.post_save'...</td>\n",
              "    </tr>\n",
              "    <tr>\n",
              "      <th>4</th>\n",
              "      <td>120201140470220481</td>\n",
              "      <td>120201944731520481</td>\n",
              "      <td>120201944731530481</td>\n",
              "      <td>OUTCOME_LEADS</td>\n",
              "      <td>OFFSITE_CONVERSIONS</td>\n",
              "      <td>expedify_TOF_Website_Leads_22 Nov 23</td>\n",
              "      <td>Marketing Professionals</td>\n",
              "      <td>Truth Insight Action</td>\n",
              "      <td>165.63</td>\n",
              "      <td>469</td>\n",
              "      <td>373</td>\n",
              "      <td>1.257373</td>\n",
              "      <td>1.705757</td>\n",
              "      <td>8</td>\n",
              "      <td>2023-11-28</td>\n",
              "      <td>2023-11-28</td>\n",
              "      <td>[{'action_type': 'link_click', 'value': '1.066...</td>\n",
              "      <td>20.70375</td>\n",
              "      <td>[{'action_type': 'offsite_conversion.fb_pixel_...</td>\n",
              "      <td>[{'action_type': 'landing_page_view', 'value':...</td>\n",
              "    </tr>\n",
              "  </tbody>\n",
              "</table>\n",
              "</div>\n",
              "    <div class=\"colab-df-buttons\">\n",
              "\n",
              "  <div class=\"colab-df-container\">\n",
              "    <button class=\"colab-df-convert\" onclick=\"convertToInteractive('df-f44b9e24-0a0a-4025-916c-257b04d2feee')\"\n",
              "            title=\"Convert this dataframe to an interactive table.\"\n",
              "            style=\"display:none;\">\n",
              "\n",
              "  <svg xmlns=\"http://www.w3.org/2000/svg\" height=\"24px\" viewBox=\"0 -960 960 960\">\n",
              "    <path d=\"M120-120v-720h720v720H120Zm60-500h600v-160H180v160Zm220 220h160v-160H400v160Zm0 220h160v-160H400v160ZM180-400h160v-160H180v160Zm440 0h160v-160H620v160ZM180-180h160v-160H180v160Zm440 0h160v-160H620v160Z\"/>\n",
              "  </svg>\n",
              "    </button>\n",
              "\n",
              "  <style>\n",
              "    .colab-df-container {\n",
              "      display:flex;\n",
              "      gap: 12px;\n",
              "    }\n",
              "\n",
              "    .colab-df-convert {\n",
              "      background-color: #E8F0FE;\n",
              "      border: none;\n",
              "      border-radius: 50%;\n",
              "      cursor: pointer;\n",
              "      display: none;\n",
              "      fill: #1967D2;\n",
              "      height: 32px;\n",
              "      padding: 0 0 0 0;\n",
              "      width: 32px;\n",
              "    }\n",
              "\n",
              "    .colab-df-convert:hover {\n",
              "      background-color: #E2EBFA;\n",
              "      box-shadow: 0px 1px 2px rgba(60, 64, 67, 0.3), 0px 1px 3px 1px rgba(60, 64, 67, 0.15);\n",
              "      fill: #174EA6;\n",
              "    }\n",
              "\n",
              "    .colab-df-buttons div {\n",
              "      margin-bottom: 4px;\n",
              "    }\n",
              "\n",
              "    [theme=dark] .colab-df-convert {\n",
              "      background-color: #3B4455;\n",
              "      fill: #D2E3FC;\n",
              "    }\n",
              "\n",
              "    [theme=dark] .colab-df-convert:hover {\n",
              "      background-color: #434B5C;\n",
              "      box-shadow: 0px 1px 3px 1px rgba(0, 0, 0, 0.15);\n",
              "      filter: drop-shadow(0px 1px 2px rgba(0, 0, 0, 0.3));\n",
              "      fill: #FFFFFF;\n",
              "    }\n",
              "  </style>\n",
              "\n",
              "    <script>\n",
              "      const buttonEl =\n",
              "        document.querySelector('#df-f44b9e24-0a0a-4025-916c-257b04d2feee button.colab-df-convert');\n",
              "      buttonEl.style.display =\n",
              "        google.colab.kernel.accessAllowed ? 'block' : 'none';\n",
              "\n",
              "      async function convertToInteractive(key) {\n",
              "        const element = document.querySelector('#df-f44b9e24-0a0a-4025-916c-257b04d2feee');\n",
              "        const dataTable =\n",
              "          await google.colab.kernel.invokeFunction('convertToInteractive',\n",
              "                                                    [key], {});\n",
              "        if (!dataTable) return;\n",
              "\n",
              "        const docLinkHtml = 'Like what you see? Visit the ' +\n",
              "          '<a target=\"_blank\" href=https://colab.research.google.com/notebooks/data_table.ipynb>data table notebook</a>'\n",
              "          + ' to learn more about interactive tables.';\n",
              "        element.innerHTML = '';\n",
              "        dataTable['output_type'] = 'display_data';\n",
              "        await google.colab.output.renderOutput(dataTable, element);\n",
              "        const docLink = document.createElement('div');\n",
              "        docLink.innerHTML = docLinkHtml;\n",
              "        element.appendChild(docLink);\n",
              "      }\n",
              "    </script>\n",
              "  </div>\n",
              "\n",
              "\n",
              "<div id=\"df-10eae966-67ee-48fb-9f16-0cddf30abe8c\">\n",
              "  <button class=\"colab-df-quickchart\" onclick=\"quickchart('df-10eae966-67ee-48fb-9f16-0cddf30abe8c')\"\n",
              "            title=\"Suggest charts\"\n",
              "            style=\"display:none;\">\n",
              "\n",
              "<svg xmlns=\"http://www.w3.org/2000/svg\" height=\"24px\"viewBox=\"0 0 24 24\"\n",
              "     width=\"24px\">\n",
              "    <g>\n",
              "        <path d=\"M19 3H5c-1.1 0-2 .9-2 2v14c0 1.1.9 2 2 2h14c1.1 0 2-.9 2-2V5c0-1.1-.9-2-2-2zM9 17H7v-7h2v7zm4 0h-2V7h2v10zm4 0h-2v-4h2v4z\"/>\n",
              "    </g>\n",
              "</svg>\n",
              "  </button>\n",
              "\n",
              "<style>\n",
              "  .colab-df-quickchart {\n",
              "      --bg-color: #E8F0FE;\n",
              "      --fill-color: #1967D2;\n",
              "      --hover-bg-color: #E2EBFA;\n",
              "      --hover-fill-color: #174EA6;\n",
              "      --disabled-fill-color: #AAA;\n",
              "      --disabled-bg-color: #DDD;\n",
              "  }\n",
              "\n",
              "  [theme=dark] .colab-df-quickchart {\n",
              "      --bg-color: #3B4455;\n",
              "      --fill-color: #D2E3FC;\n",
              "      --hover-bg-color: #434B5C;\n",
              "      --hover-fill-color: #FFFFFF;\n",
              "      --disabled-bg-color: #3B4455;\n",
              "      --disabled-fill-color: #666;\n",
              "  }\n",
              "\n",
              "  .colab-df-quickchart {\n",
              "    background-color: var(--bg-color);\n",
              "    border: none;\n",
              "    border-radius: 50%;\n",
              "    cursor: pointer;\n",
              "    display: none;\n",
              "    fill: var(--fill-color);\n",
              "    height: 32px;\n",
              "    padding: 0;\n",
              "    width: 32px;\n",
              "  }\n",
              "\n",
              "  .colab-df-quickchart:hover {\n",
              "    background-color: var(--hover-bg-color);\n",
              "    box-shadow: 0 1px 2px rgba(60, 64, 67, 0.3), 0 1px 3px 1px rgba(60, 64, 67, 0.15);\n",
              "    fill: var(--button-hover-fill-color);\n",
              "  }\n",
              "\n",
              "  .colab-df-quickchart-complete:disabled,\n",
              "  .colab-df-quickchart-complete:disabled:hover {\n",
              "    background-color: var(--disabled-bg-color);\n",
              "    fill: var(--disabled-fill-color);\n",
              "    box-shadow: none;\n",
              "  }\n",
              "\n",
              "  .colab-df-spinner {\n",
              "    border: 2px solid var(--fill-color);\n",
              "    border-color: transparent;\n",
              "    border-bottom-color: var(--fill-color);\n",
              "    animation:\n",
              "      spin 1s steps(1) infinite;\n",
              "  }\n",
              "\n",
              "  @keyframes spin {\n",
              "    0% {\n",
              "      border-color: transparent;\n",
              "      border-bottom-color: var(--fill-color);\n",
              "      border-left-color: var(--fill-color);\n",
              "    }\n",
              "    20% {\n",
              "      border-color: transparent;\n",
              "      border-left-color: var(--fill-color);\n",
              "      border-top-color: var(--fill-color);\n",
              "    }\n",
              "    30% {\n",
              "      border-color: transparent;\n",
              "      border-left-color: var(--fill-color);\n",
              "      border-top-color: var(--fill-color);\n",
              "      border-right-color: var(--fill-color);\n",
              "    }\n",
              "    40% {\n",
              "      border-color: transparent;\n",
              "      border-right-color: var(--fill-color);\n",
              "      border-top-color: var(--fill-color);\n",
              "    }\n",
              "    60% {\n",
              "      border-color: transparent;\n",
              "      border-right-color: var(--fill-color);\n",
              "    }\n",
              "    80% {\n",
              "      border-color: transparent;\n",
              "      border-right-color: var(--fill-color);\n",
              "      border-bottom-color: var(--fill-color);\n",
              "    }\n",
              "    90% {\n",
              "      border-color: transparent;\n",
              "      border-bottom-color: var(--fill-color);\n",
              "    }\n",
              "  }\n",
              "</style>\n",
              "\n",
              "  <script>\n",
              "    async function quickchart(key) {\n",
              "      const quickchartButtonEl =\n",
              "        document.querySelector('#' + key + ' button');\n",
              "      quickchartButtonEl.disabled = true;  // To prevent multiple clicks.\n",
              "      quickchartButtonEl.classList.add('colab-df-spinner');\n",
              "      try {\n",
              "        const charts = await google.colab.kernel.invokeFunction(\n",
              "            'suggestCharts', [key], {});\n",
              "      } catch (error) {\n",
              "        console.error('Error during call to suggestCharts:', error);\n",
              "      }\n",
              "      quickchartButtonEl.classList.remove('colab-df-spinner');\n",
              "      quickchartButtonEl.classList.add('colab-df-quickchart-complete');\n",
              "    }\n",
              "    (() => {\n",
              "      let quickchartButtonEl =\n",
              "        document.querySelector('#df-10eae966-67ee-48fb-9f16-0cddf30abe8c button');\n",
              "      quickchartButtonEl.style.display =\n",
              "        google.colab.kernel.accessAllowed ? 'block' : 'none';\n",
              "    })();\n",
              "  </script>\n",
              "</div>\n",
              "    </div>\n",
              "  </div>\n"
            ]
          },
          "metadata": {},
          "execution_count": 13
        }
      ],
      "source": [
        "df.head()"
      ]
    },
    {
      "cell_type": "code",
      "execution_count": null,
      "metadata": {
        "id": "x_quI6KOuI8r"
      },
      "outputs": [],
      "source": [
        "# df.to_excel('fb_data_success2.xlsx')"
      ]
    },
    {
      "cell_type": "code",
      "execution_count": null,
      "metadata": {
        "id": "tuTLzwhvuI8r"
      },
      "outputs": [],
      "source": [
        "df=pd.read_excel('fb_data_success2.xlsx')"
      ]
    },
    {
      "cell_type": "code",
      "execution_count": null,
      "metadata": {
        "id": "3-qcrO70uI8s"
      },
      "outputs": [],
      "source": [
        "df"
      ]
    },
    {
      "cell_type": "code",
      "execution_count": null,
      "metadata": {
        "id": "9vzNP0DzuI8s"
      },
      "outputs": [],
      "source": [
        "from google.cloud import bigquery\n"
      ]
    },
    {
      "cell_type": "code",
      "execution_count": null,
      "metadata": {
        "id": "J3j1VVDYuI8t"
      },
      "outputs": [],
      "source": [
        "pip install google-auth google-auth-oauthlib google-auth-httplib2 google-cloud-bigquery\n"
      ]
    },
    {
      "cell_type": "code",
      "execution_count": null,
      "metadata": {
        "id": "2tFpmXikuI8t"
      },
      "outputs": [],
      "source": [
        "from google.cloud import bigquery\n",
        "from google.auth.transport.requests import Request\n",
        "from google.auth.transport.requests import AuthorizedSession\n",
        "from google.oauth2 import service_account"
      ]
    },
    {
      "cell_type": "code",
      "execution_count": null,
      "metadata": {
        "id": "RN1sXK_LuI8v"
      },
      "outputs": [],
      "source": [
        "# Set the path to your service account key file\n",
        "key_path = 'expedify-data-473ad535ee2b.json'"
      ]
    },
    {
      "cell_type": "code",
      "source": [],
      "metadata": {
        "id": "893GBr93xUbM"
      },
      "execution_count": null,
      "outputs": []
    },
    {
      "cell_type": "code",
      "execution_count": null,
      "metadata": {
        "colab": {
          "base_uri": "https://localhost:8080/"
        },
        "id": "trKvV7FjuI8w",
        "outputId": "b1735f97-81c3-4ebd-d931-c3024a4180e8"
      },
      "outputs": [
        {
          "output_type": "stream",
          "name": "stdout",
          "text": [
            "analytics_347100337\n",
            "expedify_googleads\n",
            "expedify_linkedinads\n",
            "expedify_metaads\n",
            "googleads\n"
          ]
        }
      ],
      "source": [
        "# Create a BigQuery client\n",
        "credentials = service_account.Credentials.from_service_account_file(\n",
        "    key_path,\n",
        "    scopes=[\"https://www.googleapis.com/auth/cloud-platform\"],\n",
        ")\n",
        "client = bigquery.Client(credentials=credentials, project=credentials.project_id)\n",
        "\n",
        "# Now you can use the `client` object to interact with BigQuery\n",
        "# For example, list datasets in the project\n",
        "datasets = client.list_datasets()\n",
        "for dataset in datasets:\n",
        "    print(dataset.dataset_id)"
      ]
    },
    {
      "cell_type": "code",
      "execution_count": null,
      "metadata": {
        "id": "ddepkG8XuI8x"
      },
      "outputs": [],
      "source": [
        "\n",
        "table_id = 'expedify_metaads.new_table_test'\n"
      ]
    },
    {
      "cell_type": "code",
      "execution_count": null,
      "metadata": {
        "id": "vgOs4t15uI8x"
      },
      "outputs": [],
      "source": [
        "# Since string columns use the \"object\" dtype, pass in a (partial) schema\n",
        "# to ensure the correct BigQuery data type.\n",
        "job_config = bigquery.LoadJobConfig(schema=[\n",
        "    bigquery.SchemaField(\"my_string\", \"STRING\"),\n",
        "])\n"
      ]
    },
    {
      "cell_type": "code",
      "execution_count": null,
      "metadata": {
        "colab": {
          "base_uri": "https://localhost:8080/"
        },
        "id": "CUy2YJzjuI8y",
        "outputId": "60d9e159-5b81-4d76-ed8e-e446876490c5"
      },
      "outputs": [
        {
          "output_type": "stream",
          "name": "stderr",
          "text": [
            "/usr/local/lib/python3.10/dist-packages/google/cloud/bigquery/_pandas_helpers.py:603: UserWarning: Pyarrow could not determine the type of columns: website_ctr, conversions, actions.\n",
            "  warnings.warn(\n"
          ]
        }
      ],
      "source": [
        "job = client.load_table_from_dataframe(\n",
        "    df, table_id\n",
        ")"
      ]
    },
    {
      "cell_type": "code",
      "execution_count": null,
      "metadata": {
        "id": "bhJwLGTFuI8z"
      },
      "outputs": [],
      "source": []
    }
  ],
  "metadata": {
    "kernelspec": {
      "display_name": "Python 3",
      "language": "python",
      "name": "python3"
    },
    "language_info": {
      "codemirror_mode": {
        "name": "ipython",
        "version": 3
      },
      "file_extension": ".py",
      "mimetype": "text/x-python",
      "name": "python",
      "nbconvert_exporter": "python",
      "pygments_lexer": "ipython3",
      "version": "3.7.4"
    },
    "colab": {
      "provenance": [],
      "include_colab_link": true
    }
  },
  "nbformat": 4,
  "nbformat_minor": 0
}